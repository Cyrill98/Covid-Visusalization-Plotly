{
 "cells": [
  {
   "cell_type": "code",
   "execution_count": null,
   "metadata": {},
   "outputs": [],
   "source": [
    "import plotly.express as px\n",
    "import plotly.graph_objects as go\n",
    "import plotly.figure_factory as ff\n",
    "\n",
    "import folium\n",
    "import pandas as pd\n",
    "import numpy as np\n",
    "import matplotlib.pyplot as plt\n",
    "%matplotlib inline\n",
    "\n",
    "import math\n",
    "import random\n",
    "from datetime import timedelta\n",
    "\n",
    "from plotly.subplots import make_subplots\n",
    "\n",
    "import warnings \n",
    "warnings.filterwarnings('ignore')\n",
    "\n",
    "#Color Palette\n",
    "cnf = '#393e46'\n",
    "dth = '#ff2e63'\n",
    "rec = '#21bf73'\n",
    "act = '#fe9801'"
   ]
  },
  {
   "cell_type": "code",
   "execution_count": null,
   "metadata": {},
   "outputs": [],
   "source": [
    "df = pd.read_csv(f'/Users/User/Jupyter Project/Data Analysis/Covid Visualization/Covid-19-Preprocessed-Dataset/preprocessed/covid_19_data_cleaned.csv', parse_dates = ['Date'])\n",
    "country_daywise = pd.read_csv(f'/Users/User/Jupyter Project/Data Analysis/Covid Visualization/Covid-19-Preprocessed-Dataset/preprocessed/country_daywise.csv', parse_dates = ['Date'])\n",
    "countrywise = pd.read_csv(f'/Users/User/Jupyter Project/Data Analysis/Covid Visualization/Covid-19-Preprocessed-Dataset/preprocessed/countrywise.csv')\n",
    "daywise = pd.read_csv(f'/Users/User/Jupyter Project/Data Analysis/Covid Visualization/Covid-19-Preprocessed-Dataset/preprocessed/daywise.csv', parse_dates = ['Date'])"
   ]
  },
  {
   "cell_type": "code",
   "execution_count": null,
   "metadata": {},
   "outputs": [],
   "source": [
    "df['Province/State'] = df['Province/State'].fillna(\"\")\n",
    "df"
   ]
  },
  {
   "cell_type": "code",
   "execution_count": null,
   "metadata": {},
   "outputs": [],
   "source": [
    "daywise"
   ]
  },
  {
   "cell_type": "code",
   "execution_count": null,
   "metadata": {},
   "outputs": [],
   "source": [
    "country_daywise"
   ]
  },
  {
   "cell_type": "code",
   "execution_count": null,
   "metadata": {},
   "outputs": [],
   "source": [
    "confirmed = df.groupby('Date').sum()['Confirmed'].reset_index()\n",
    "recovered = df.groupby('Date').sum()['Recovered'].reset_index()\n",
    "deaths = df.groupby('Date').sum()['Deaths'].reset_index()\n",
    "deaths.head()"
   ]
  },
  {
   "cell_type": "code",
   "execution_count": null,
   "metadata": {},
   "outputs": [],
   "source": [
    "df.isnull().sum()"
   ]
  },
  {
   "cell_type": "code",
   "execution_count": null,
   "metadata": {},
   "outputs": [],
   "source": [
    "df.info()"
   ]
  },
  {
   "cell_type": "code",
   "execution_count": null,
   "metadata": {},
   "outputs": [],
   "source": [
    "df.query('Country == \"Malaysia\"')"
   ]
  },
  {
   "cell_type": "code",
   "execution_count": null,
   "metadata": {},
   "outputs": [],
   "source": [
    "confirmed.tail()"
   ]
  },
  {
   "cell_type": "code",
   "execution_count": null,
   "metadata": {},
   "outputs": [],
   "source": [
    "deaths.tail()"
   ]
  },
  {
   "cell_type": "code",
   "execution_count": null,
   "metadata": {
    "scrolled": true
   },
   "outputs": [],
   "source": [
    "recovered.tail()"
   ]
  },
  {
   "cell_type": "code",
   "execution_count": null,
   "metadata": {},
   "outputs": [],
   "source": [
    "fig = go.Figure()\n",
    "fig.add_trace(go.Scatter(x = confirmed['Date'], y = confirmed['Confirmed'], mode = 'lines+markers', name = 'Confirmed', line = dict(color = \"Orange\", width = 2)))\n",
    "fig.add_trace(go.Scatter(x = recovered['Date'], y = recovered['Recovered'], mode = 'lines+markers', name = 'Recovered', line = dict(color = \"Green\", width = 2)))\n",
    "fig.add_trace(go.Scatter(x = deaths['Date'], y = deaths['Deaths'], mode = 'lines+markers', name = 'Deaths', line = dict(color = \"Red\", width = 2)))\n",
    "fig.update_layout(title = 'Worldwide Covid-19 Cases', xaxis_tickfont_size = 14, yaxis = dict(title = 'Number of Cases'))\n",
    "\n",
    "fig.show()"
   ]
  },
  {
   "cell_type": "markdown",
   "metadata": {},
   "source": [
    "# Cases Density World Map"
   ]
  },
  {
   "cell_type": "code",
   "execution_count": null,
   "metadata": {
    "scrolled": true
   },
   "outputs": [],
   "source": [
    "df.info()"
   ]
  },
  {
   "cell_type": "code",
   "execution_count": null,
   "metadata": {},
   "outputs": [],
   "source": [
    "df['Date'] = df['Date'].astype(str)"
   ]
  },
  {
   "cell_type": "code",
   "execution_count": null,
   "metadata": {
    "scrolled": false
   },
   "outputs": [],
   "source": [
    "df.info()"
   ]
  },
  {
   "cell_type": "code",
   "execution_count": null,
   "metadata": {
    "scrolled": true
   },
   "outputs": [],
   "source": [
    "df.head()"
   ]
  },
  {
   "cell_type": "code",
   "execution_count": null,
   "metadata": {},
   "outputs": [],
   "source": [
    "fig = px.density_mapbox(df, lat = 'Lat', lon = 'Long', hover_name = 'Country', hover_data = ['Confirmed', 'Recovered', 'Deaths'], animation_frame = 'Date', color_continuous_scale='Portland', radius = 7, zoom = 0, height = 700)\n",
    "fig.update_layout(title = 'Worldwide Covid 19 Cases')\n",
    "fig.update_layout(mapbox_style = 'open-street-map', mapbox_center_lon = 0)\n",
    "\n",
    "fig.show()"
   ]
  },
  {
   "cell_type": "markdown",
   "metadata": {},
   "source": [
    "# Total Cases on Ships"
   ]
  },
  {
   "cell_type": "code",
   "execution_count": null,
   "metadata": {
    "scrolled": true
   },
   "outputs": [],
   "source": [
    "df['Date'] = pd.to_datetime(df['Date'])\n",
    "df.info()"
   ]
  },
  {
   "cell_type": "code",
   "execution_count": null,
   "metadata": {},
   "outputs": [],
   "source": [
    "ship_rows = df['Province/State'].str.contains('Grand Princess') | df['Province/State'].str.contains('Diamond Princess') | df['Country'].str.contains('Grand Princess') | df['Country'].str.contains('Diamond Princess') |  df['Country'].str.contains('MS Zaandam')\n",
    "ship = df[ship_rows]\n",
    "\n",
    "df = df[~ship_rows]"
   ]
  },
  {
   "cell_type": "code",
   "execution_count": null,
   "metadata": {},
   "outputs": [],
   "source": [
    "ship_latest = ship[ship['Date'] == max(ship['Date'])]\n",
    "ship_latest"
   ]
  },
  {
   "cell_type": "code",
   "execution_count": null,
   "metadata": {
    "scrolled": true
   },
   "outputs": [],
   "source": [
    "ship_latest.style.background_gradient(cmap = 'Pastel1_r')"
   ]
  },
  {
   "cell_type": "markdown",
   "metadata": {},
   "source": [
    "# Cases Over the Time with Area Plot"
   ]
  },
  {
   "cell_type": "code",
   "execution_count": null,
   "metadata": {},
   "outputs": [],
   "source": [
    "temp = df.groupby('Date')['Confirmed', 'Deaths', 'Recovered', 'Active'].sum().reset_index()\n",
    "# Get latest datarow\n",
    "temp = temp[temp['Date'] == max(temp['Date'])].reset_index(drop = True)\n",
    "temp"
   ]
  },
  {
   "cell_type": "code",
   "execution_count": null,
   "metadata": {},
   "outputs": [],
   "source": [
    "# Problem with this method; if the data is not sort in asc/descending format; will be different\n",
    "temp.tail(1)"
   ]
  },
  {
   "cell_type": "code",
   "execution_count": null,
   "metadata": {},
   "outputs": [],
   "source": [
    "tm = temp.melt(id_vars = 'Date', value_vars = ['Active', 'Deaths', 'Recovered'])\n",
    "fig = px.treemap(tm, path = ['variable'], values = 'value', height = 250, width = 800, color_discrete_sequence = [act, rec, dth])\n",
    "\n",
    "fig.data[0].textinfo = 'label+text+value'\n",
    "fig.show()"
   ]
  },
  {
   "cell_type": "code",
   "execution_count": null,
   "metadata": {},
   "outputs": [],
   "source": [
    "temp = df.groupby('Date')['Recovered', 'Deaths', 'Active'].sum().reset_index()\n",
    "temp = temp.melt(id_vars = 'Date', value_vars = ['Recovered', 'Deaths', 'Active'], var_name = 'Case', value_name = 'Count')"
   ]
  },
  {
   "cell_type": "code",
   "execution_count": null,
   "metadata": {},
   "outputs": [],
   "source": [
    "fig = px.area(temp, x = 'Date', y= 'Count', color='Case', height=600, title='Cases over time', color_discrete_sequence= [rec, dth, act])\n",
    "fig.update_layout(xaxis_rangeslider_visible= True)\n",
    "fig.show()"
   ]
  },
  {
   "cell_type": "markdown",
   "metadata": {},
   "source": [
    "# Folium Maps"
   ]
  },
  {
   "cell_type": "code",
   "execution_count": null,
   "metadata": {},
   "outputs": [],
   "source": [
    "#Worldwide Cases on Folium Maps"
   ]
  },
  {
   "cell_type": "code",
   "execution_count": null,
   "metadata": {},
   "outputs": [],
   "source": [
    "# Take latest data of all country\n",
    "temp = df[df['Date'] == max(df['Date'])]\n",
    "temp"
   ]
  },
  {
   "cell_type": "code",
   "execution_count": null,
   "metadata": {},
   "outputs": [],
   "source": [
    "m = folium.Map(location = [0, 0], tiles = 'cartodbpositron', min_zoom = 1, max_zoom=4, zoom_start=1)\n",
    "\n",
    "for i in range(0, len(temp)):\n",
    "    folium.Circle(location = [temp.iloc[i]['Lat'], temp.iloc[i]['Long']], color = 'crimson', fill = 'crimson', \n",
    "                              tooltip = '<li><bold> Country: ' + str(temp.iloc[i]['Country']) + \n",
    "                                        '<li><bold> Province: ' + str(temp.iloc[i]['Province/State']) +\n",
    "                                        '<li><bold> Confirmed: ' + str(temp.iloc[i]['Confirmed']) +\n",
    "                                        '<li><bold> Deaths: ' + str(temp.iloc[i]['Deaths']),\n",
    "                              radius = int(temp.iloc[i]['Confirmed'])**0.5).add_to(m)\n",
    "                                        \n",
    "\n",
    "m\n"
   ]
  },
  {
   "cell_type": "markdown",
   "metadata": {},
   "source": [
    "# Confirmed Cases with Choropleth Map"
   ]
  },
  {
   "cell_type": "code",
   "execution_count": null,
   "metadata": {},
   "outputs": [],
   "source": [
    "country_daywise.head()"
   ]
  },
  {
   "cell_type": "code",
   "execution_count": null,
   "metadata": {},
   "outputs": [],
   "source": [
    "fig = px.choropleth(country_daywise, locations='Country', locationmode = 'country names', color = np.log(country_daywise['Confirmed']), hover_name = 'Country', animation_frame = country_daywise['Date'].dt.strftime('%Y/%m/%d'),\n",
    "                    title = 'Cases Over Time', color_continuous_scale=px.colors.sequential.Inferno)\n",
    "\n",
    "fig.update(layout_coloraxis_showscale = True)\n",
    "fig.show()\n"
   ]
  },
  {
   "cell_type": "markdown",
   "metadata": {},
   "source": [
    "# Death and Recoveries per 100 Cases"
   ]
  },
  {
   "cell_type": "code",
   "execution_count": null,
   "metadata": {},
   "outputs": [],
   "source": [
    "daywise.head()"
   ]
  },
  {
   "cell_type": "code",
   "execution_count": null,
   "metadata": {},
   "outputs": [],
   "source": [
    "fig_c = px.bar(daywise, x='Date', y='Confirmed', color_discrete_sequence=[act])\n",
    "fig_d = px.bar(daywise, x='Date', y='Deaths', color_discrete_sequence=[dth])\n",
    "fig = make_subplots(rows =1 , cols=2, shared_xaxes = False, horizontal_spacing = 0.1, \n",
    "                    subplot_titles=('Confirmed Cases', 'Deaths Cases'))\n",
    "\n",
    "fig.add_trace(fig_c['data'][0], row = 1, col = 1)\n",
    "fig.add_trace(fig_d['data'][0], row = 1, col = 2)\n",
    "\n",
    "fig.update_layout(height = 400)\n",
    "\n",
    "fig.show()"
   ]
  },
  {
   "cell_type": "markdown",
   "metadata": {},
   "source": [
    "# Confirmed and Deaths Cases with Static Colormap"
   ]
  },
  {
   "cell_type": "code",
   "execution_count": null,
   "metadata": {},
   "outputs": [],
   "source": [
    "fig_c = px.choropleth(countrywise, locations = 'Country', locationmode = 'country names',\n",
    "                      color = np.log(countrywise['Confirmed']), hover_data = ['Confirmed'])\n",
    "\n",
    "temp = countrywise[countrywise['Deaths'] > 0]\n",
    "\n",
    "fig_d = px.choropleth(temp , locations = 'Country', locationmode = 'country names',\n",
    "                      color = np.log(temp['Deaths']), hover_data = ['Deaths'])\n"
   ]
  },
  {
   "cell_type": "code",
   "execution_count": null,
   "metadata": {},
   "outputs": [],
   "source": [
    "fig = make_subplots(rows = 1, cols = 2, subplot_titles = ['Confirmed', 'Deaths'], specs = [[{'type':'choropleth'}, {'type':'choropleth'}]])\n",
    "\n",
    "fig.add_trace(fig_c['data'][0], row = 1, col = 1)\n",
    "fig.add_trace(fig_d['data'][0], row = 1, col = 2)\n",
    "\n",
    "fig.update(layout_coloraxis_showscale = False)\n",
    "fig.show()"
   ]
  },
  {
   "cell_type": "code",
   "execution_count": null,
   "metadata": {},
   "outputs": [],
   "source": [
    "daywise.columns"
   ]
  },
  {
   "cell_type": "code",
   "execution_count": null,
   "metadata": {},
   "outputs": [],
   "source": [
    "fig1 = px.line(daywise, x = 'Date', y= 'Deaths / 100 Cases', color_discrete_sequence=[dth])\n",
    "fig2 = px.line(daywise, x = 'Date', y= 'Recovered / 100 Cases', color_discrete_sequence=[rec])\n",
    "fig3 = px.line(daywise, x = 'Date', y= 'Deaths / 100 Recovered', color_discrete_sequence=['aqua'])\n",
    "\n",
    "fig = make_subplots(rows = 1, cols = 3, shared_xaxes = False, subplot_titles=('Deaths / 100 Cases', 'Recovered / 100 Cases', 'Deaths / 100 Recovered'))\n",
    "\n",
    "fig.add_trace(fig1['data'][0], row = 1, col = 1)\n",
    "fig.add_trace(fig2['data'][0], row = 1, col = 2)\n",
    "fig.add_trace(fig3['data'][0], row = 1, col = 3)\n",
    "\n",
    "fig.update_layout(height = 400)\n",
    "fig.show()\n",
    "\n",
    "\n"
   ]
  },
  {
   "cell_type": "markdown",
   "metadata": {},
   "source": [
    "# New Cases and Number of Countries"
   ]
  },
  {
   "cell_type": "code",
   "execution_count": null,
   "metadata": {},
   "outputs": [],
   "source": [
    "fig_c = px.bar(daywise, x = 'Date', y = 'Confirmed', color_discrete_sequence = [act])\n",
    "fig_d = px.bar(daywise, x = 'Date', y = 'No. of Countries', color_discrete_sequence = [dth])\n",
    "\n",
    "fig = make_subplots(rows = 1, cols = 2, shared_xaxes=False, horizontal_spacing = 0.1,\n",
    "                   subplot_titles=('No of New Cases Per Day', 'No of Countries'))\n",
    "\n",
    "fig.add_trace(fig_c['data'][0], row = 1, col = 1)\n",
    "fig.add_trace(fig_d['data'][0], row = 1, col = 2)\n",
    "\n",
    "fig.show()"
   ]
  },
  {
   "cell_type": "markdown",
   "metadata": {},
   "source": [
    "# Top 15 Countries Case Analysis"
   ]
  },
  {
   "cell_type": "code",
   "execution_count": null,
   "metadata": {},
   "outputs": [],
   "source": [
    "countrywise.columns"
   ]
  },
  {
   "cell_type": "code",
   "execution_count": null,
   "metadata": {
    "scrolled": false
   },
   "outputs": [],
   "source": [
    "top = 15\n",
    "\n",
    "fig_c = px.bar(countrywise.sort_values('Confirmed').tail(top), x = 'Confirmed', y = 'Country',\n",
    "              text = 'Confirmed', orientation = 'h', color_discrete_sequence = [cnf])\n",
    "\n",
    "fig_d = px.bar(countrywise.sort_values('Deaths').tail(top), x = 'Deaths', y = 'Country',\n",
    "              text = 'Deaths', orientation = 'h', color_discrete_sequence = [dth])\n",
    "\n",
    "fig_a = px.bar(countrywise.sort_values('Active').tail(top), x = 'Active', y = 'Country',\n",
    "              text = 'Active', orientation = 'h', color_discrete_sequence = [act])\n",
    "\n",
    "fig_r = px.bar(countrywise.sort_values('Recovered').tail(top), x = 'Recovered', y = 'Country',\n",
    "              text = 'Recovered', orientation = 'h', color_discrete_sequence = [rec])\n",
    "\n",
    "fig_dc = px.bar(countrywise.sort_values('Deaths / 100 Cases').tail(top), x = 'Deaths / 100 Cases', y = 'Country',\n",
    "              text = 'Deaths / 100 Cases', orientation = 'h', color_discrete_sequence = ['#434343'])\n",
    "\n",
    "fig_rc = px.bar(countrywise.sort_values('Recovered / 100 Cases').tail(top), x = 'Recovered / 100 Cases', y = 'Country',\n",
    "              text = 'Recovered / 100 Cases', orientation = 'h', color_discrete_sequence = ['#f84351'])\n",
    "\n",
    "fig_nc = px.bar(countrywise.sort_values('New Cases').tail(top), x = 'New Cases', y = 'Country',\n",
    "              text = 'New Cases', orientation = 'h', color_discrete_sequence = ['#f84351'])\n",
    "\n",
    "temp = countrywise[countrywise['Population']>1000000]\n",
    "\n",
    "fig_p = px.bar(temp.sort_values('Cases / Million People').tail(top), x = 'Cases / Million People', y = 'Country',\n",
    "              text = 'Cases / Million People', orientation = 'h', color_discrete_sequence = ['#b40398'])\n",
    "\n",
    "# 1 Week Change\n",
    "\n",
    "fig_wc = px.bar(countrywise.sort_values('1 week change').tail(top), x = '1 week change', y = 'Country',\n",
    "              text = '1 week change', orientation = 'h', color_discrete_sequence = ['#c04041'])\n",
    "\n",
    "temp1 = countrywise[countrywise['Confirmed']>100]\n",
    "\n",
    "fig_in = px.bar(temp1.sort_values('1 week % increase').tail(top), x = '1 week % increase', y = 'Country',\n",
    "              text = '1 week % increase', orientation = 'h', color_discrete_sequence = ['#b00398'])\n",
    "\n",
    "\n",
    "\n",
    "\n",
    "\n",
    "fig = make_subplots(rows = 5, cols = 2, shared_xaxes = False, horizontal_spacing = 0.2, \n",
    "                    vertical_spacing = 0.1, subplot_titles=('Confirmed Cases', 'Death Reported', \n",
    "                                                            'Recovered Cases', 'Active Cases',\n",
    "                                                               'Death / 100 Cases', 'Recovered/ 100 Cases',\n",
    "                                                           'New Cases', 'Cases / Million People',\n",
    "                                                           '1 Week Change', '1 Week % increase'))\n",
    "\n",
    "fig.add_trace(fig_c['data'][0], row = 1, col = 1)\n",
    "fig.add_trace(fig_d['data'][0], row = 1, col = 2)\n",
    "\n",
    "fig.add_trace(fig_r['data'][0], row = 2, col = 1)\n",
    "fig.add_trace(fig_a['data'][0], row = 2, col = 2)\n",
    "\n",
    "fig.add_trace(fig_dc['data'][0], row = 3, col = 1)\n",
    "fig.add_trace(fig_rc['data'][0], row = 3, col = 2)\n",
    "\n",
    "fig.add_trace(fig_nc['data'][0], row = 4, col = 1)\n",
    "fig.add_trace(fig_p['data'][0], row = 4, col = 2)\n",
    "\n",
    "fig.add_trace(fig_wc['data'][0], row = 5, col = 1)\n",
    "fig.add_trace(fig_in['data'][0], row = 5, col = 2)\n",
    "\n",
    "\n",
    "fig.update_layout(height = 3000)\n",
    "fig.show()"
   ]
  },
  {
   "cell_type": "markdown",
   "metadata": {},
   "source": [
    "# Save Static Plots"
   ]
  },
  {
   "cell_type": "code",
   "execution_count": null,
   "metadata": {},
   "outputs": [],
   "source": [
    "import os\n",
    "if not os.path.exists('images'):\n",
    "    os.mkdir('images')"
   ]
  },
  {
   "cell_type": "code",
   "execution_count": null,
   "metadata": {},
   "outputs": [],
   "source": [
    "fig.write_image('images/fig.png')"
   ]
  },
  {
   "cell_type": "code",
   "execution_count": null,
   "metadata": {},
   "outputs": [],
   "source": [
    "fig.write_image('images/fig.pdf')"
   ]
  },
  {
   "cell_type": "markdown",
   "metadata": {},
   "source": [
    "# Scatter Plot for Deaths vs Confirmed Cases"
   ]
  },
  {
   "cell_type": "code",
   "execution_count": null,
   "metadata": {},
   "outputs": [],
   "source": [
    "countrywise.sort_values('Deaths', ascending = False).head(15)"
   ]
  },
  {
   "cell_type": "code",
   "execution_count": null,
   "metadata": {
    "scrolled": false
   },
   "outputs": [],
   "source": [
    "top = 15\n",
    "fig = px.scatter(countrywise.sort_values('Deaths', ascending = False).head(top), \n",
    "                 x= 'Confirmed', y='Deaths', color = 'Country',\n",
    "                 size = 'Confirmed', height = 800, width = 1100 ,text = 'Country', log_x = True, log_y = True, title = 'Deaths vs Confirmed Cases (log10 scale)')\n",
    "\n",
    "fig.update_traces(textposition = 'top center')\n",
    "fig.update_layout(showlegend = True)\n",
    "fig.update_layout(xaxis_rangeslider_visible = True)\n",
    "fig.show()"
   ]
  },
  {
   "cell_type": "markdown",
   "metadata": {},
   "source": [
    "# Confirmed, Deaths, New Cases vs Country and Date"
   ]
  },
  {
   "cell_type": "markdown",
   "metadata": {},
   "source": [
    "<h1><li> Bar Plot </li>"
   ]
  },
  {
   "cell_type": "code",
   "execution_count": null,
   "metadata": {},
   "outputs": [],
   "source": [
    "fig = px.bar(country_daywise, x = 'Date', y='Confirmed', color='Country', height = 600,\n",
    "            title = 'Confirmed', color_discrete_sequence = px.colors.cyclical.mygbm)\n",
    "\n",
    "fig.show()"
   ]
  },
  {
   "cell_type": "code",
   "execution_count": null,
   "metadata": {},
   "outputs": [],
   "source": [
    "fig = px.bar(country_daywise, x = 'Deaths', y='Confirmed', color='Country', height = 600,\n",
    "            title = 'Deaths', color_discrete_sequence = px.colors.cyclical.mygbm)\n",
    "\n",
    "fig.show()"
   ]
  },
  {
   "cell_type": "code",
   "execution_count": null,
   "metadata": {},
   "outputs": [],
   "source": [
    "fig = px.bar(country_daywise, x = 'Date', y='Recovered', color='Country', height = 600,\n",
    "            title = 'Recovered', color_discrete_sequence = px.colors.cyclical.mygbm)\n",
    "\n",
    "fig.show()"
   ]
  },
  {
   "cell_type": "code",
   "execution_count": null,
   "metadata": {
    "scrolled": true
   },
   "outputs": [],
   "source": [
    "fig = px.bar(country_daywise, x = 'Date', y='New Cases', color='Country', height = 600,\n",
    "            title = 'New Cases', color_discrete_sequence = px.colors.cyclical.mygbm)\n",
    "\n",
    "fig.show()"
   ]
  },
  {
   "cell_type": "markdown",
   "metadata": {},
   "source": [
    "# Line PLot"
   ]
  },
  {
   "cell_type": "code",
   "execution_count": null,
   "metadata": {},
   "outputs": [],
   "source": [
    "fig = px.line(country_daywise, x = 'Date', y='Confirmed', color='Country', height = 600,\n",
    "            title = 'Confirmed', color_discrete_sequence = px.colors.cyclical.mygbm)\n",
    "\n",
    "fig.show()\n",
    "\n",
    "fig = px.line(country_daywise, x = 'Date', y='Deaths', color='Country', height = 600,\n",
    "            title = 'Deaths', color_discrete_sequence = px.colors.cyclical.mygbm)\n",
    "\n",
    "fig.show()\n",
    "\n",
    "fig = px.line(country_daywise, x = 'Date', y='Recovered', color='Country', height = 600,\n",
    "            title = 'Recovered', color_discrete_sequence = px.colors.cyclical.mygbm)\n",
    "\n",
    "fig.show()"
   ]
  },
  {
   "cell_type": "markdown",
   "metadata": {},
   "source": [
    "# Growth Rate after 100 Cases"
   ]
  },
  {
   "cell_type": "code",
   "execution_count": null,
   "metadata": {},
   "outputs": [],
   "source": [
    "df.head()"
   ]
  },
  {
   "cell_type": "code",
   "execution_count": null,
   "metadata": {},
   "outputs": [],
   "source": [
    "growth100 = country_daywise[country_daywise['Confirmed'] > 100]['Country'].unique()\n",
    "temp = df[df['Country'].isin(growth100)]\n",
    "\n",
    "\n",
    "temp = temp.groupby(['Country', 'Date'])['Confirmed'].sum().reset_index()\n",
    "temp = temp[temp['Confirmed']>100]\n",
    "temp"
   ]
  },
  {
   "cell_type": "code",
   "execution_count": null,
   "metadata": {},
   "outputs": [],
   "source": [
    "# The date when 100 cases are (start)reported in this country\n",
    "min_date = temp.groupby('Country')['Date'].min().reset_index()\n",
    "min_date.columns = ['Country', 'Min Date']\n",
    "min_date"
   ]
  },
  {
   "cell_type": "code",
   "execution_count": null,
   "metadata": {},
   "outputs": [],
   "source": [
    "from_100_case = pd.merge(temp, min_date, on = 'Country')\n",
    "from_100_case[' N days'] = (from_100_case['Date'] - from_100_case['Min Date']).dt.days\n",
    "\n",
    "from_100_case"
   ]
  },
  {
   "cell_type": "code",
   "execution_count": null,
   "metadata": {
    "scrolled": true
   },
   "outputs": [],
   "source": [
    "fig = px.line(from_100_case, x = ' N days', y = 'Confirmed', color = 'Country', title = 'Nth Days from 100 cases', height = 600)\n",
    "\n",
    "fig.show()"
   ]
  },
  {
   "cell_type": "markdown",
   "metadata": {},
   "source": [
    "# Growth rate after 1 Million cases"
   ]
  },
  {
   "cell_type": "code",
   "execution_count": null,
   "metadata": {},
   "outputs": [],
   "source": [
    "growth1mil = country_daywise[country_daywise['Confirmed'] > 1000000]['Country'].unique()\n",
    "temp = df[df['Country'].isin(growth1mil)]\n",
    "\n",
    "\n",
    "temp = temp.groupby(['Country', 'Date'])['Confirmed'].sum().reset_index()\n",
    "temp = temp[temp['Confirmed']>1000000]\n",
    "\n",
    "# The date when 1Million cases are (start)reported in this country\n",
    "min_date = temp.groupby('Country')['Date'].min().reset_index()\n",
    "min_date.columns = ['Country', 'Min Date']\n",
    "\n",
    "from_1mil_case = pd.merge(temp, min_date, on = 'Country')\n",
    "from_1mil_case[' N days'] = (from_1mil_case['Date'] - from_1mil_case['Min Date']).dt.days\n",
    "\n",
    "fig = px.line(from_1mil_case, x = ' N days', y = 'Confirmed', color = 'Country', title = 'Nth Days from 1 Million cases', height = 600)\n",
    "\n",
    "fig.show()"
   ]
  },
  {
   "cell_type": "markdown",
   "metadata": {},
   "source": [
    "# Growth Rate after 5 Million Cases"
   ]
  },
  {
   "cell_type": "code",
   "execution_count": null,
   "metadata": {},
   "outputs": [],
   "source": [
    "growth5mil = country_daywise[country_daywise['Confirmed'] > 5000000]['Country'].unique()\n",
    "temp = df[df['Country'].isin(growth5mil)]\n",
    "\n",
    "\n",
    "temp = temp.groupby(['Country', 'Date'])['Confirmed'].sum().reset_index()\n",
    "temp = temp[temp['Confirmed']>5000000]\n",
    "\n",
    "# The date when 100 cases are (start)reported in this country\n",
    "min_date = temp.groupby('Country')['Date'].min().reset_index()\n",
    "min_date.columns = ['Country', 'Min Date']\n",
    "\n",
    "from_5mil_case = pd.merge(temp, min_date, on = 'Country')\n",
    "from_5mil_case[' N days'] = (from_5mil_case['Date'] - from_5mil_case['Min Date']).dt.days\n",
    "\n",
    "fig = px.line(from_5mil_case, x = ' N days', y = 'Confirmed', color = 'Country', title = 'Nth Days from 5 Million cases', height = 600)\n",
    "\n",
    "fig.show()"
   ]
  },
  {
   "cell_type": "markdown",
   "metadata": {},
   "source": [
    "# Growth Rate after 10 Million Cases"
   ]
  },
  {
   "cell_type": "code",
   "execution_count": null,
   "metadata": {},
   "outputs": [],
   "source": [
    "growthmillion = country_daywise[country_daywise['Confirmed'] > 10000000]['Country'].unique()\n",
    "temp = df[df['Country'].isin(growthmillion)]\n",
    "\n",
    "\n",
    "temp = temp.groupby(['Country', 'Date'])['Confirmed'].sum().reset_index()\n",
    "temp = temp[temp['Confirmed']>10000000]\n",
    "\n",
    "# The date when 100 cases are (start)reported in this country\n",
    "min_date = temp.groupby('Country')['Date'].min().reset_index()\n",
    "min_date.columns = ['Country', 'Min Date']\n",
    "\n",
    "from_million_case = pd.merge(temp, min_date, on = 'Country')\n",
    "from_million_case[' N days'] = (from_million_case['Date'] - from_million_case['Min Date']).dt.days\n",
    "\n",
    "fig = px.line(from_million_case, x = ' N days', y = 'Confirmed', color = 'Country', title = 'Nth Days from 10 Million cases', height = 600)\n",
    "\n",
    "fig.show()"
   ]
  },
  {
   "cell_type": "markdown",
   "metadata": {},
   "source": [
    "# Tree Map Analysis"
   ]
  },
  {
   "cell_type": "markdown",
   "metadata": {},
   "source": [
    "<b> Confirmed Cases </b>"
   ]
  },
  {
   "cell_type": "code",
   "execution_count": null,
   "metadata": {},
   "outputs": [],
   "source": [
    "full_latest = df[df['Date'] == max(df['Date'])]\n",
    "\n",
    "fig = px.treemap(full_latest.sort_values(by = 'Confirmed', ascending = False).reset_index(drop = True), \n",
    "                path = ['Country', 'Province/State'], values = 'Confirmed', height = 700, title = \n",
    "                'Number of Confirmed Cases', color_discrete_sequence = px.colors.qualitative.Dark2)\n",
    "\n",
    "\n",
    "fig.data[0].textinfo='label+text+value'\n",
    "fig.show()"
   ]
  },
  {
   "cell_type": "markdown",
   "metadata": {},
   "source": [
    "# Death Cases"
   ]
  },
  {
   "cell_type": "code",
   "execution_count": null,
   "metadata": {},
   "outputs": [],
   "source": [
    "full_latest = df[df['Date'] == max(df['Date'])]\n",
    "\n",
    "fig = px.treemap(full_latest.sort_values(by = 'Deaths', ascending = False).reset_index(drop = True), \n",
    "                path = ['Country', 'Province/State'], values = 'Deaths', height = 700, title = \n",
    "                'Number of Death Cases', color_discrete_sequence = px.colors.qualitative.Dark2)\n",
    "\n",
    "\n",
    "fig.data[0].textinfo='label+text+value'\n",
    "fig.show()"
   ]
  },
  {
   "cell_type": "markdown",
   "metadata": {},
   "source": [
    "# First and Last Case Report Time"
   ]
  },
  {
   "cell_type": "code",
   "execution_count": null,
   "metadata": {},
   "outputs": [],
   "source": [
    "first_date = df[df['Confirmed']> 0]\n",
    "first_date = first_date.groupby('Country')['Date'].agg(['min']).reset_index()\n",
    "\n",
    "last_date = df.groupby(['Country', 'Date'])['Confirmed', 'Deaths', 'Recovered']\n",
    "last_date = last_date.sum().diff().reset_index()\n",
    "\n",
    "mask = last_date['Country'] != last_date['Country'].shift(1)\n",
    "\n",
    "last_date.loc[mask, 'Confirmed'] = np.nan\n",
    "last_date.loc[mask, 'Deaths'] = np.nan\n",
    "last_date.loc[mask, 'Recovered'] = np.nan \n",
    "\n",
    "last_date = last_date[last_date['Confirmed'] > 0]\n",
    "last_date = last_date.groupby('Country')['Date'].agg(['max']).reset_index()\n",
    "\n",
    "first_last = pd.concat([first_date, last_date['max']], axis = 1)\n",
    "first_last['max'] = first_last['max'] + timedelta(days = 1)\n",
    "\n",
    "first_last['Days'] = first_last['max'] - first_last['min']\n",
    "first_last['Task'] = first_last['Country']\n",
    "\n",
    "first_last.columns = ['Country', 'Start', 'Finish', 'Days', 'Task']\n",
    "\n",
    "first_last = first_last.sort_values('Days')\n",
    "first_last"
   ]
  },
  {
   "cell_type": "code",
   "execution_count": null,
   "metadata": {},
   "outputs": [],
   "source": [
    "# Create Random Colors\n",
    "colors = ['#' + ''.join([random.choice('0123456789ABCDEF') for j in range(6)]) for i in range(len(first_last))]\n",
    "colors"
   ]
  },
  {
   "cell_type": "code",
   "execution_count": null,
   "metadata": {
    "scrolled": false
   },
   "outputs": [],
   "source": [
    "fig = ff.create_gantt(first_last, index_col = 'Country', colors = colors, show_colorbar = False, \n",
    "                     bar_width = 0.2, showgrid_x = True, showgrid_y = True, height = 3500)\n",
    "\n",
    "fig.show()"
   ]
  },
  {
   "cell_type": "markdown",
   "metadata": {},
   "source": [
    "# Confirmed Cases Country and Day Wise"
   ]
  },
  {
   "cell_type": "code",
   "execution_count": null,
   "metadata": {},
   "outputs": [],
   "source": [
    "country_daywise.head()"
   ]
  },
  {
   "cell_type": "code",
   "execution_count": null,
   "metadata": {},
   "outputs": [],
   "source": [
    "temp = country_daywise.groupby(['Country', 'Date'])['Confirmed'].sum().reset_index()\n",
    "temp = temp[temp['Country'].isin(growth1mil)]\n",
    "\n",
    "countries = temp['Country'].unique()\n",
    "countries"
   ]
  },
  {
   "cell_type": "code",
   "execution_count": null,
   "metadata": {},
   "outputs": [],
   "source": [
    "ncols = 3\n",
    "nrows = math.ceil(len(countries)/ncols)\n",
    "\n",
    "fig = make_subplots(rows = nrows, cols = ncols, shared_xaxes = False, \n",
    "                   subplot_titles = countries)\n",
    "\n",
    "for ind, country in enumerate(countries):\n",
    "    row = int((ind/ncols)+1)\n",
    "    col = int((ind%ncols)+1)\n",
    "    fig.add_trace(go.Bar(x = temp['Date'], y = temp.loc[temp['Country'] == country, 'Confirmed'], \n",
    "                         name = country), row = row, col = col)\n",
    "\n",
    "fig.update_layout(height = 4000, title_text = 'Confirmed Cases in Each Country')\n",
    "fig.update_layout(showlegend = False)\n",
    "fig.show()"
   ]
  },
  {
   "cell_type": "markdown",
   "metadata": {},
   "source": [
    "# Covid-19 vs Other Pandemics"
   ]
  },
  {
   "cell_type": "code",
   "execution_count": null,
   "metadata": {},
   "outputs": [],
   "source": [
    "full_latest"
   ]
  },
  {
   "cell_type": "code",
   "execution_count": null,
   "metadata": {},
   "outputs": [],
   "source": [
    "# Wikipedia Source\n",
    "\n",
    "pandemic = pd.DataFrame({\n",
    "    'epidemic': ['COVID-19', 'SARS', 'EBOLA', 'MERS', 'H1N1'],\n",
    "    'start_year' : [2019, 2002, 2013, 2012, 2009],\n",
    "    'end_year' : [2020, 2004, 2016, 2020, 2010],\n",
    "    'confirmed' : [full_latest['Confirmed'].sum(), 8422, 28646,2519,6724149],\n",
    "    'deaths' : [full_latest['Deaths'].sum(), 813, 11323, 866, 19654]\n",
    "})"
   ]
  },
  {
   "cell_type": "code",
   "execution_count": null,
   "metadata": {},
   "outputs": [],
   "source": [
    "pandemic['mortality'] = round((pandemic['deaths']/pandemic['confirmed'])*100, 2)\n",
    "\n",
    "pandemic"
   ]
  },
  {
   "cell_type": "code",
   "execution_count": null,
   "metadata": {},
   "outputs": [],
   "source": [
    "temp = pandemic.melt(id_vars = 'epidemic', value_vars = ['confirmed', 'deaths', 'mortality'],\n",
    "                    var_name = 'Case', value_name = 'Value')\n",
    "temp"
   ]
  },
  {
   "cell_type": "code",
   "execution_count": null,
   "metadata": {},
   "outputs": [],
   "source": [
    "fig = px.bar(temp, x = 'epidemic', y = 'Value', color = 'epidemic', text = 'Value', facet_col = 'Case', \n",
    "            color_discrete_sequence = px.colors.qualitative.Bold)\n",
    "\n",
    "fig.update_traces(textposition = 'outside')\n",
    "fig.update_layout(uniformtext_minsize = 8, uniformtext_mode = 'hide')\n",
    "fig.update_yaxes(showticklabels = False)\n",
    "fig.layout.yaxis2.update(matches = None)\n",
    "fig.layout.yaxis3.update(matches = None)\n",
    "fig.show()"
   ]
  }
 ],
 "metadata": {
  "kernelspec": {
   "display_name": "Python 3",
   "language": "python",
   "name": "python3"
  },
  "language_info": {
   "codemirror_mode": {
    "name": "ipython",
    "version": 3
   },
   "file_extension": ".py",
   "mimetype": "text/x-python",
   "name": "python",
   "nbconvert_exporter": "python",
   "pygments_lexer": "ipython3",
   "version": "3.7.5"
  }
 },
 "nbformat": 4,
 "nbformat_minor": 4
}
